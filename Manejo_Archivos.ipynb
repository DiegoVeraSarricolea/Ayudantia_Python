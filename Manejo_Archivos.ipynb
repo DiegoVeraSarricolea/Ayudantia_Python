{
 "cells": [
  {
   "cell_type": "code",
   "execution_count": 16,
   "metadata": {},
   "outputs": [
    {
     "data": {
      "text/html": [
       "<!-- Mejorar visualización en proyector -->\n",
       "<style>\n",
       ".rendered_html {font-size: 1.2em; line-height: 150%;}\n",
       "div.prompt {min-width: 0ex; padding: 0px;}\n",
       ".container {width:95% !important;}\n",
       "</style>\n"
      ],
      "text/plain": [
       "<IPython.core.display.HTML object>"
      ]
     },
     "metadata": {},
     "output_type": "display_data"
    }
   ],
   "source": [
    "%%HTML\n",
    "<!-- Mejorar visualización en proyector -->\n",
    "<style>\n",
    ".rendered_html {font-size: 1.2em; line-height: 150%;}\n",
    "div.prompt {min-width: 0ex; padding: 0px;}\n",
    ".container {width:95% !important;}\n",
    "</style>"
   ]
  },
  {
   "cell_type": "markdown",
   "metadata": {},
   "source": [
    "# Que es un Archivo:\n",
    "\n",
    "- Grupo de datos estructurados, almacenados en algún medio\n",
    "- Pueden ser leidos y escritos.\n",
    "- Generalmente son secuenciales.\n"
   ]
  },
  {
   "cell_type": "markdown",
   "metadata": {},
   "source": [
    "# Archivos en Python\n",
    "\n",
    "`miarchivo = open(\"nombre\", 'modo')`\n",
    "\n",
    "- nombre: Es el nombre del archivo a acceder.\n",
    "- modo: La accion sobre el archivo, Escritura(w) o Lectura(r). Y para agregar datos a un archivo existente(a)\n",
    "\n",
    "- Para escribir sobre un archivo usar `miarchivo.write()`\n",
    "\n",
    "**Ejemplo**\n",
    "\n",
    "- Escribir un archivo"
   ]
  },
  {
   "cell_type": "code",
   "execution_count": 19,
   "metadata": {},
   "outputs": [],
   "source": [
    "miarchivo = open(\"hola.txt\", 'w')\n",
    "miarchivo.write(\"hola chicos, como está la cuarentena\")\n",
    "miarchivo.close()"
   ]
  },
  {
   "cell_type": "markdown",
   "metadata": {},
   "source": [
    "- Leer un Archivo"
   ]
  },
  {
   "cell_type": "code",
   "execution_count": 21,
   "metadata": {},
   "outputs": [
    {
     "name": "stdout",
     "output_type": "stream",
     "text": [
      "hola chicos, como está la cuarentena"
     ]
    }
   ],
   "source": [
    "miarchivo = open(\"hola.txt\", 'r')\n",
    "for linea in miarchivo:\n",
    "    print (linea, end = \"\")\n",
    "miarchivo.close()"
   ]
  },
  {
   "cell_type": "markdown",
   "metadata": {},
   "source": [
    "# Ejercicio:\n",
    "\n",
    "Programa que escribe en un archivo una estrofa de la canción “Un elefante se balanceaba” El programa debe preguntar primero de cuántas líneas (N) se compone el texto a ingresar; una vez ingresado desde teclado el valor N, debe leerse cada línea desde teclado y escribirse en un archivo de salida. Luego, lee el archivo e imprime su contenido.\n"
   ]
  },
  {
   "cell_type": "code",
   "execution_count": 22,
   "metadata": {},
   "outputs": [
    {
     "name": "stdout",
     "output_type": "stream",
     "text": [
      "Cuantas lineas? 3\n",
      "Ingrese linea de texto: un Elefante se columpiaba\n",
      "Ingrese linea de texto: sobre la tela\n",
      "Ingrese linea de texto: de una araña\n"
     ]
    }
   ],
   "source": [
    "a = open(\"cancion.txt\", 'w')\n",
    "N = int(input(\"Cuantas lineas? \"))\n",
    "while N <= 0:\n",
    "    print (\"Error!!\")\n",
    "    N = int(input(\"Cuantas lineas? \"))\n",
    "for i in range(0,N):\n",
    "    frase = input(\"Ingrese linea de texto: \")\n",
    "    if i < N-1:\n",
    "        a.write(frase+\"\\n\")\n",
    "    else:\n",
    "        a.write(frase)\n",
    "a.close()"
   ]
  },
  {
   "cell_type": "code",
   "execution_count": 24,
   "metadata": {},
   "outputs": [
    {
     "name": "stdout",
     "output_type": "stream",
     "text": [
      "un Elefante se columpiaba\n",
      "sobre la tela\n",
      "de una araña"
     ]
    }
   ],
   "source": [
    "a = open(\"cancion.txt\", 'r')\n",
    "for linea in a:\n",
    "    print (linea, end = \"\")\n",
    "#contenido=a.read()\n",
    "#print(contenido)\n",
    "a.close()"
   ]
  },
  {
   "cell_type": "markdown",
   "metadata": {},
   "source": [
    "# Respecto al cierre de archivos.\n",
    "\n",
    "Cuando usamos, por ejemplo..\n",
    "- `a = open(“cancion.txt\",'w')`\n",
    "\n",
    "La función `open()` devuelve un objeto de flujo (stream object), la cual contiene métodos y atributos para manipular y obtener información sobre un flujo de caracteres (pueden ser de salida, como el ejemplo, o de entrada).\n",
    "\n",
    "Pero, la apertura de archivos consume recursos del sistema y, dependiendo del archivo que se haya abierto, podría ser que otros programas no puedan acceder a ellos. Es importante cerrar los archivos tan pronto como hayamos acabado con ellos.\n",
    "\n",
    "¿Qué hacemos? Pues, lo cerramos!!\n",
    "`a.close()`\n"
   ]
  },
  {
   "cell_type": "markdown",
   "metadata": {},
   "source": [
    "**Sin embargo, el objeto de flujo  ”a” sigue existiendo.**\n",
    "- El método close() del objeto no lo destruyó!\n",
    "\n",
    "**Además, ¿qué ocurre si tu código tiene un error y termina antes de que invoques close()?**\n",
    "- En teoría, el archivo podría quedar abierto mucho más tiempo del necesario.\n",
    "- En tu computador, no es problema. En un servidor en producción, podría serlo.\n",
    "\n",
    "**Solución:**\n",
    "\n",
    "`with open(\"nuevo.txt\",'w') as a:`\n",
    "- Se usa with para crear un “contexto de ejecución”.\n",
    "- Es así que el objeto de flujo “a” actúa como un gestor de contexto (context manager).  La instrucción `with open(\"nuevo.txt\",'w') as a:` crea el objeto de flujo ”a” y le dice que está entrando en un contexto de ejecución.\n",
    "\n",
    "Cuando el bloque with se completa, Python le dice al objeto de flujo que está saliendo del contexto de ejecución y el objeto invocará su propio método `close()`.\n",
    "\n",
    "Lo bueno: no importa cómo o cuándo abandones el bloque with, Python cerrará ese archivo… incluso si “sales” de él mediante una excepción no gestionada. Incluso si el código lanza una excepción y todo tu programa se estrella, se va a cerrar ese archivo.\n",
    "\n",
    "**Ejemplo:**"
   ]
  },
  {
   "cell_type": "code",
   "execution_count": 29,
   "metadata": {},
   "outputs": [
    {
     "name": "stdout",
     "output_type": "stream",
     "text": [
      "Cuantas lineas? 2\n",
      "Ingrese linea de texto: hola\n",
      "Ingrese linea de texto: Chicos\n"
     ]
    }
   ],
   "source": [
    "with open(\"nuevo.txt\",'w') as a:\n",
    "    N = int(input(\"Cuantas lineas? \"))\n",
    "    while N <= 0:\n",
    "        print (\"Error!!\")\n",
    "        N = int(input(\"Cuantas lineas? \"))\n",
    "    for i in range(0,N):\n",
    "        frase = input(\"Ingrese linea de texto: \")\n",
    "        if i < N-1:\n",
    "            a.write(frase+\"\\n\")\n",
    "        else:\n",
    "            a.write(frase)"
   ]
  },
  {
   "cell_type": "code",
   "execution_count": 33,
   "metadata": {},
   "outputs": [
    {
     "name": "stdout",
     "output_type": "stream",
     "text": [
      "hola\n",
      "Chicos"
     ]
    }
   ],
   "source": [
    "with open(\"nuevo.txt\",'r') as a:\n",
    "    for linea in a:\n",
    "        print (linea, end = \"\")"
   ]
  },
  {
   "cell_type": "markdown",
   "metadata": {},
   "source": [
    "# Ejercicios:\n",
    "\n",
    "- Escriba un programa que agregue líneas a un archivo existente.\n",
    "- Escriba una función que cuente el n° de palabras de una línea ingresada como parámetro y las retorne al programa principal.\n",
    "- Escriba un programa que  agregue líneas a un archivo, sin saber de ante mano cuantas líneas son, el usuario indicará que no seguirá ingresando líneas al escribir un espacio seguido de ‘Enter’."
   ]
  },
  {
   "cell_type": "code",
   "execution_count": 34,
   "metadata": {},
   "outputs": [
    {
     "name": "stdout",
     "output_type": "stream",
     "text": [
      "Ingrese una nueva fraseesta es mi nueva frase\n"
     ]
    }
   ],
   "source": [
    "N=input(\"Ingrese una nueva frase\")\n",
    "with open(\"nuevo.txt\", 'a') as ej1:\n",
    "    ej1.write(N)"
   ]
  },
  {
   "cell_type": "code",
   "execution_count": 35,
   "metadata": {},
   "outputs": [
    {
     "name": "stdout",
     "output_type": "stream",
     "text": [
      "hola\n",
      "Chicosesta es mi nueva frase"
     ]
    }
   ],
   "source": [
    "with open(\"nuevo.txt\",'r') as a:\n",
    "    for linea in a:\n",
    "        print (linea, end = \"\")"
   ]
  },
  {
   "cell_type": "code",
   "execution_count": null,
   "metadata": {},
   "outputs": [],
   "source": []
  }
 ],
 "metadata": {
  "kernelspec": {
   "display_name": "Python 3.8.1 64-bit",
   "language": "python",
   "name": "python38164bit75802d948a3c484a9b1c6350749dd20b"
  },
  "language_info": {
   "codemirror_mode": {
    "name": "ipython",
    "version": 3
   },
   "file_extension": ".py",
   "mimetype": "text/x-python",
   "name": "python",
   "nbconvert_exporter": "python",
   "pygments_lexer": "ipython3",
   "version": "3.8.1"
  }
 },
 "nbformat": 4,
 "nbformat_minor": 4
}
